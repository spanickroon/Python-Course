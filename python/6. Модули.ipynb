{
 "cells": [
  {
   "cell_type": "markdown",
   "id": "fundamental-coating",
   "metadata": {},
   "source": [
    "# Модули"
   ]
  },
  {
   "cell_type": "markdown",
   "id": "sexual-omega",
   "metadata": {},
   "source": [
    "Модулем в Python называется любой файл с программой (да-да, все те программы, которые вы писали, можно назвать модулями). В этой статье мы поговорим о том, как создать модуль, и как подключить модуль, из стандартной библиотеки или написанный вами.\n",
    "\n",
    "Каждая программа может импортировать модуль и получить доступ к его классам, функциям и объектам. Нужно заметить, что модуль может быть написан не только на Python, а например, на C или C++."
   ]
  },
  {
   "cell_type": "markdown",
   "id": "opposed-settle",
   "metadata": {},
   "source": [
    "## Подключение модуля из стандартной библиотек"
   ]
  },
  {
   "cell_type": "markdown",
   "id": "rapid-upper",
   "metadata": {},
   "source": [
    "Подключить модуль можно с помощью инструкции import. К примеру, подключим модуль os для получения текущей директории:"
   ]
  },
  {
   "cell_type": "code",
   "execution_count": 9,
   "id": "directed-veteran",
   "metadata": {},
   "outputs": [
    {
     "name": "stdout",
     "output_type": "stream",
     "text": [
      "/home/nkoznev/Projects/Python-Course/python\n"
     ]
    }
   ],
   "source": [
    "import os\n",
    "print(os.getcwd())"
   ]
  },
  {
   "cell_type": "markdown",
   "id": "loaded-april",
   "metadata": {},
   "source": [
    "После ключевого слова import указывается название модуля. Одной инструкцией можно подключить несколько модулей, хотя этого не рекомендуется делать, так как это снижает читаемость кода. Импортируем модули time и random."
   ]
  },
  {
   "cell_type": "code",
   "execution_count": 5,
   "id": "closing-sierra",
   "metadata": {},
   "outputs": [
    {
     "name": "stdout",
     "output_type": "stream",
     "text": [
      "1617105298.8692646\n",
      "0.6796700270246364\n"
     ]
    }
   ],
   "source": [
    "import time, random\n",
    "\n",
    "print(time.time())\n",
    "\n",
    "print(random.random())"
   ]
  },
  {
   "cell_type": "markdown",
   "id": "confident-synthetic",
   "metadata": {},
   "source": [
    "После импортирования модуля его название становится переменной, через которую можно получить доступ к атрибутам модуля. Например, можно обратиться к константе e, расположенной в модуле math:"
   ]
  },
  {
   "cell_type": "code",
   "execution_count": 8,
   "id": "expanded-librarian",
   "metadata": {},
   "outputs": [
    {
     "name": "stdout",
     "output_type": "stream",
     "text": [
      "2.718281828459045\n"
     ]
    }
   ],
   "source": [
    "import math\n",
    "print(math.e)"
   ]
  },
  {
   "cell_type": "markdown",
   "id": "fifty-motion",
   "metadata": {},
   "source": [
    "Стоит отметить, что если указанный атрибут модуля не будет найден, возбудится исключение AttributeError. А если не удастся найти модуль для импортирования, то ImportError."
   ]
  },
  {
   "cell_type": "code",
   "execution_count": 10,
   "id": "oriental-nature",
   "metadata": {},
   "outputs": [
    {
     "ename": "ModuleNotFoundError",
     "evalue": "No module named 'testmodule'",
     "output_type": "error",
     "traceback": [
      "\u001b[0;31m---------------------------------------------------------------------------\u001b[0m",
      "\u001b[0;31mModuleNotFoundError\u001b[0m                       Traceback (most recent call last)",
      "\u001b[0;32m<ipython-input-10-2de96a456b56>\u001b[0m in \u001b[0;36m<module>\u001b[0;34m\u001b[0m\n\u001b[0;32m----> 1\u001b[0;31m \u001b[0;32mimport\u001b[0m \u001b[0mtestmodule\u001b[0m\u001b[0;34m\u001b[0m\u001b[0;34m\u001b[0m\u001b[0m\n\u001b[0m",
      "\u001b[0;31mModuleNotFoundError\u001b[0m: No module named 'testmodule'"
     ]
    }
   ],
   "source": [
    "import testmodule"
   ]
  },
  {
   "cell_type": "code",
   "execution_count": 12,
   "id": "posted-transfer",
   "metadata": {},
   "outputs": [
    {
     "ename": "AttributeError",
     "evalue": "module 'math' has no attribute 'PPPPP'",
     "output_type": "error",
     "traceback": [
      "\u001b[0;31m---------------------------------------------------------------------------\u001b[0m",
      "\u001b[0;31mAttributeError\u001b[0m                            Traceback (most recent call last)",
      "\u001b[0;32m<ipython-input-12-fe290646f8f7>\u001b[0m in \u001b[0;36m<module>\u001b[0;34m\u001b[0m\n\u001b[1;32m      1\u001b[0m \u001b[0;32mimport\u001b[0m \u001b[0mmath\u001b[0m\u001b[0;34m\u001b[0m\u001b[0;34m\u001b[0m\u001b[0m\n\u001b[1;32m      2\u001b[0m \u001b[0;34m\u001b[0m\u001b[0m\n\u001b[0;32m----> 3\u001b[0;31m \u001b[0mprint\u001b[0m\u001b[0;34m(\u001b[0m\u001b[0mmath\u001b[0m\u001b[0;34m.\u001b[0m\u001b[0mPPPPP\u001b[0m\u001b[0;34m)\u001b[0m\u001b[0;34m\u001b[0m\u001b[0;34m\u001b[0m\u001b[0m\n\u001b[0m",
      "\u001b[0;31mAttributeError\u001b[0m: module 'math' has no attribute 'PPPPP'"
     ]
    }
   ],
   "source": [
    "import math\n",
    "\n",
    "print(math.PPPPP)"
   ]
  },
  {
   "cell_type": "markdown",
   "id": "occupied-membrane",
   "metadata": {},
   "source": [
    "## Использование псевдонимов"
   ]
  },
  {
   "cell_type": "markdown",
   "id": "stainless-flight",
   "metadata": {},
   "source": [
    "Если название модуля слишком длинное, или оно вам не нравится по каким-то другим причинам, то для него можно создать псевдоним, с помощью ключевого слова as."
   ]
  },
  {
   "cell_type": "code",
   "execution_count": 13,
   "id": "conventional-particle",
   "metadata": {},
   "outputs": [
    {
     "name": "stdout",
     "output_type": "stream",
     "text": [
      "2.718281828459045\n"
     ]
    }
   ],
   "source": [
    "import math as m\n",
    "print(m.e)"
   ]
  },
  {
   "cell_type": "markdown",
   "id": "august-holly",
   "metadata": {},
   "source": [
    "Теперь доступ ко всем атрибутам модуля math осуществляется только с помощью переменной m, а переменной math в этой программе уже не будет (если, конечно, вы после этого не напишете import math, тогда модуль будет доступен как под именем m, так и под именем math)."
   ]
  },
  {
   "cell_type": "markdown",
   "id": "welsh-hughes",
   "metadata": {},
   "source": [
    "## Инструкция from"
   ]
  },
  {
   "cell_type": "markdown",
   "id": "sophisticated-battle",
   "metadata": {},
   "source": [
    "Подключить определенные атрибуты модуля можно с помощью инструкции from. Она имеет несколько форматов:\n",
    "\n",
    "from <Название модуля> import <Атрибут 1> [ as <Псевдоним 1> ], [<Атрибут 2> [ as <Псевдоним 2> ] ...]\n",
    "\n",
    "from <Название модуля> import *"
   ]
  },
  {
   "cell_type": "code",
   "execution_count": 15,
   "id": "planned-charlotte",
   "metadata": {},
   "outputs": [
    {
     "name": "stdout",
     "output_type": "stream",
     "text": [
      "2.718281828459045\n",
      "5\n"
     ]
    }
   ],
   "source": [
    "from math import e, ceil as c\n",
    "\n",
    "print(e)\n",
    "print(c(4.6))"
   ]
  },
  {
   "cell_type": "markdown",
   "id": "phantom-funds",
   "metadata": {},
   "source": [
    "Импортируемые атрибуты можно разместить на нескольких строках, если их много, для лучшей читаемости кода:"
   ]
  },
  {
   "cell_type": "code",
   "execution_count": 16,
   "id": "behind-pavilion",
   "metadata": {},
   "outputs": [],
   "source": [
    "from math import (\n",
    "    sin, cos,\n",
    "    tan, atan\n",
    ")"
   ]
  },
  {
   "cell_type": "markdown",
   "id": "neither-crossing",
   "metadata": {},
   "source": [
    "Второй формат инструкции from позволяет подключить все (точнее, почти все) переменные из модуля. Для примера импортируем все атрибуты из модуля sys:"
   ]
  },
  {
   "cell_type": "code",
   "execution_count": 18,
   "id": "banner-committee",
   "metadata": {},
   "outputs": [
    {
     "name": "stdout",
     "output_type": "stream",
     "text": [
      "3.8.5 (default, Jan 27 2021, 15:41:15) \n",
      "[GCC 9.3.0]\n",
      "sys.version_info(major=3, minor=8, micro=5, releaselevel='final', serial=0)\n"
     ]
    }
   ],
   "source": [
    "from sys import *\n",
    "\n",
    "print(version)\n",
    "print(version_info)"
   ]
  },
  {
   "cell_type": "markdown",
   "id": "divine-component",
   "metadata": {},
   "source": [
    "Следует заметить, что не все атрибуты будут импортированы. Если в модуле определена переменная \\_\\_all\\_\\_ (список атрибутов, которые могут быть подключены), то будут подключены только атрибуты из этого списка. Если переменная \\_\\_all\\_\\_ не определена, то будут подключены все атрибуты, не начинающиеся с нижнего подчёркивания. Кроме того, необходимо учитывать, что импортирование всех атрибутов из модуля может нарушить пространство имен главной программы, так как переменные, имеющие одинаковые имена, будут перезаписаны."
   ]
  },
  {
   "cell_type": "markdown",
   "id": "behavioral-diving",
   "metadata": {},
   "source": [
    "## Создание своего модуля на Python"
   ]
  },
  {
   "cell_type": "markdown",
   "id": "rational-judge",
   "metadata": {},
   "source": [
    "Теперь пришло время создать свой модуль. Создадим файл mymodule.py, в которой определим какие-нибудь функции:"
   ]
  },
  {
   "cell_type": "code",
   "execution_count": 21,
   "id": "dominant-polls",
   "metadata": {},
   "outputs": [],
   "source": [
    "def hello():\n",
    "    print('Hello, world!')\n",
    "\n",
    "def fib(n):\n",
    "    a = b = 1\n",
    "    for i in range(n - 2):\n",
    "        a, b = b, a + b\n",
    "    return b"
   ]
  },
  {
   "cell_type": "code",
   "execution_count": 23,
   "id": "organized-dividend",
   "metadata": {},
   "outputs": [
    {
     "name": "stdout",
     "output_type": "stream",
     "text": [
      "Hello, world!\n",
      "55\n"
     ]
    }
   ],
   "source": [
    "import mymodule\n",
    "\n",
    "mymodule.hello()\n",
    "print(mymodule.fib(10))"
   ]
  },
  {
   "cell_type": "markdown",
   "id": "defensive-squad",
   "metadata": {},
   "source": [
    "## Как назвать модуль?\n",
    "Помните, что вы (или другие люди) будут его импортировать и использовать в качестве переменной. Модуль нельзя именовать также, как и ключевое слово. Также имена модулей нельзя начинать с цифры. И не стоит называть модуль также, как какую-либо из встроенных функций. То есть, конечно, можно, но это создаст большие неудобства при его последующем использовании.\n",
    "\n",
    "## Куда поместить модуль?\n",
    "Туда, где его потом можно будет найти. Пути поиска модулей указаны в переменной sys.path. В него включены текущая директория (то есть модуль можно оставить в папке с основной программой), а также директории, в которых установлен python. Кроме того, переменную sys.path можно изменять вручную, что позволяет положить модуль в любое удобное для вас место (главное, не забыть в главной программе модифицировать sys.path).\n",
    "\n",
    "## Можно ли использовать модуль как самостоятельную программу?\n",
    "Можно. Однако надо помнить, что при импортировании модуля его код выполняется полностью, то есть, если программа что-то печатает, то при её импортировании это будет напечатано. Этого можно избежать, если проверять, запущен ли скрипт как программа, или импортирован. Это можно сделать с помощью переменной \\_\\_name\\_\\_, которая определена в любой программе, и равна \"\\_\\_main\\_\\_\", если скрипт запущен в качестве главной программы, и имя, если он импортирован. Например, mymodule.py может выглядеть вот так:"
   ]
  },
  {
   "cell_type": "code",
   "execution_count": 24,
   "id": "broad-yahoo",
   "metadata": {},
   "outputs": [
    {
     "name": "stdout",
     "output_type": "stream",
     "text": [
      "Hello, world!\n",
      "1\n",
      "1\n",
      "1\n",
      "2\n",
      "3\n",
      "5\n",
      "8\n",
      "13\n",
      "21\n",
      "34\n"
     ]
    }
   ],
   "source": [
    "def hello():\n",
    "    print('Hello, world!')\n",
    "\n",
    "def fib(n):\n",
    "    a = b = 1\n",
    "    for i in range(n - 2):\n",
    "        a, b = b, a + b\n",
    "    return b\n",
    "\n",
    "if __name__ == \"__main__\":\n",
    "    hello()\n",
    "    for i in range(10):\n",
    "        print(fib(i))"
   ]
  }
 ],
 "metadata": {
  "kernelspec": {
   "display_name": "Python 3",
   "language": "python",
   "name": "python3"
  },
  "language_info": {
   "codemirror_mode": {
    "name": "ipython",
    "version": 3
   },
   "file_extension": ".py",
   "mimetype": "text/x-python",
   "name": "python",
   "nbconvert_exporter": "python",
   "pygments_lexer": "ipython3",
   "version": "3.8.5"
  }
 },
 "nbformat": 4,
 "nbformat_minor": 5
}
