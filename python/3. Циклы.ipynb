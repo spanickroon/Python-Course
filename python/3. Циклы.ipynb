{
 "cells": [
  {
   "cell_type": "markdown",
   "id": "transparent-sharing",
   "metadata": {},
   "source": [
    "# Циклы"
   ]
  },
  {
   "cell_type": "markdown",
   "id": "polish-transaction",
   "metadata": {},
   "source": [
    "**Цикл** — разновидность управляющей конструкции в высокоуровневых языках программирования, предназначенная для организации многократного исполнения набора инструкций.\n",
    "\n",
    "Как и условные операторы циклы могут быть вложенные."
   ]
  },
  {
   "cell_type": "markdown",
   "id": "vanilla-vampire",
   "metadata": {},
   "source": [
    "## Цикл while\n",
    "\n",
    "Оператор **while** — самая универсальная конструкция для итераций в языке Python.\n",
    "Выражаясь простыми терминами, он многократно выполняет блок операторов (обычно с отступом) до тех пор, пока проверка в заголовочной части оценивается как истинное значение. Это называется “циклом”, потому что управление продолжает возвращаться к началу оператора, пока проверка не даст ложное значение. Когда результат проверки становится ложным, управление переходит на оператор, следующий после блока while. Совокупный эффект в том, что тело цикла выполняется многократно, пока проверка в заголовочной части дает истинное значение. Если проверка оценивается в ложное значение с самого начала, тогда тело цикла никогда не выполнится и оператор while пропускается."
   ]
  },
  {
   "cell_type": "code",
   "execution_count": 3,
   "id": "continent-pencil",
   "metadata": {},
   "outputs": [
    {
     "name": "stdout",
     "output_type": "stream",
     "text": [
      "Это бесконечный цикл\n",
      "Это бесконечный цикл\n",
      "Это бесконечный цикл\n",
      "Это бесконечный цикл\n",
      "Это бесконечный цикл\n",
      "Это бесконечный цикл\n",
      "Это бесконечный цикл\n",
      "Это бесконечный цикл\n",
      "Это бесконечный цикл\n",
      "Это бесконечный цикл\n",
      "Это бесконечный цикл\n",
      "Это бесконечный цикл\n",
      "Это бесконечный цикл\n",
      "Это бесконечный цикл\n",
      "Это бесконечный цикл\n",
      "Это бесконечный цикл\n",
      "Это бесконечный цикл\n",
      "Это бесконечный цикл\n",
      "Это бесконечный цикл\n"
     ]
    }
   ],
   "source": [
    "while True:\n",
    "    print('Это бесконечный цикл')\n",
    "    "
   ]
  },
  {
   "cell_type": "code",
   "execution_count": 7,
   "id": "architectural-adaptation",
   "metadata": {},
   "outputs": [
    {
     "name": "stdout",
     "output_type": "stream",
     "text": [
      "11\n",
      "12\n",
      "13\n",
      "14\n",
      "15\n",
      "1\n",
      "2\n",
      "3\n",
      "4\n"
     ]
    }
   ],
   "source": [
    "a = 10\n",
    "b = 15\n",
    "\n",
    "while a < b:\n",
    "    a += 1\n",
    "    print(a)\n",
    "    \n",
    "c = 0\n",
    "\n",
    "while c < 4:\n",
    "    c += 1\n",
    "    print(c)\n",
    "          \n",
    "while False:\n",
    "    print('Ничего не выводит')"
   ]
  },
  {
   "cell_type": "markdown",
   "id": "modified-wrong",
   "metadata": {},
   "source": [
    "## Операторы break, continue, pass и конструкция else цикла"
   ]
  },
  {
   "cell_type": "markdown",
   "id": "historical-bottle",
   "metadata": {},
   "source": [
    "Теперь, когда было продемонстрировано несколько циклов Python в действии, наступило время взглянуть на два простых оператора, которые достигают своих целей, только когда вложены внутри циклов — break и continue. Занимаясь здесь такиминеобычными операторами, мы также рассмотрим конструкцию else цикла, потому что она переплетена с break, и пустой оператор-заполнитель pass (который не привязан к циклам как таковой, но относится к общей категории простых однословных операторов). Указанные инструменты Python кратко описаны ниже.\n",
    "\n",
    "- **break** -- Переходит за пределы ближайшего заключающего цикла (после всего оператора цикла).\n",
    "- **continue** -- Переходит в начало ближайшего заключающего цикла (на строку заголовка цикла).\n",
    "- **pass** -- Вообще ничего не делает: это пустой оператор-заполнитель.\n",
    "- Блок **else** цикла -- Выполняется тогда и только тогда, когда происходит нормальный выход из цикла (т.е. без выполнения оператора break)."
   ]
  },
  {
   "cell_type": "markdown",
   "id": "known-portland",
   "metadata": {},
   "source": [
    "## Оператор continue\n",
    "\n",
    "Оператор **continue** вызывает немедленный переход в начало цикла. Иногда он также позволяет избежать вложения операторов. В приведенном далее примере оператор continue используется для пропуска вывода нечетных чисел. Код выводит все четные числа, которые меньше 10 и больше или равны 0. Вспомните, что 0 означает ложь, а % — операцию получения остатка от деления (модуля), поэтому данный цикл делает обратный отсчет до 0, пропуская числа, которые не являются множителями 2 — он выводит 8 6 4 2 0:"
   ]
  },
  {
   "cell_type": "code",
   "execution_count": 10,
   "id": "civilian-google",
   "metadata": {},
   "outputs": [
    {
     "name": "stdout",
     "output_type": "stream",
     "text": [
      "8 6 4 2 0 "
     ]
    }
   ],
   "source": [
    "х = 10\n",
    "\n",
    "while х:\n",
    "    х = х - 1\n",
    "    if х % 2 != 0: \n",
    "        continue\n",
    "    print(х, end=' ')"
   ]
  },
  {
   "cell_type": "markdown",
   "id": "excess-manchester",
   "metadata": {},
   "source": [
    "## Оператор break\n",
    "\n",
    "Оператор **break** вызывает немедленный выход из цикла. Поскольку при его достижении код, который находится за ним в теле цикла, не выполняется, за счет включения break иногда можно избежать вложения. Например, ниже представлен простой интерактивный цикл. Когда пользователь в ответ на запрос имени вводит слово stop, происходит выход из цикла:"
   ]
  },
  {
   "cell_type": "code",
   "execution_count": 12,
   "id": "absent-practice",
   "metadata": {},
   "outputs": [
    {
     "name": "stdout",
     "output_type": "stream",
     "text": [
      "Enter name: nikita\n",
      "Enter age: 20\n",
      "Hello nikita => 400\n",
      "Enter name: vlad\n",
      "Enter age: 25\n",
      "Hello vlad => 625\n",
      "Enter name: stop\n"
     ]
    }
   ],
   "source": [
    "while True:\n",
    "    name = input('Enter name: ')\n",
    "\n",
    "    if name == 'stop':\n",
    "        break\n",
    "    age = input ('Enter age: ')\n",
    "\n",
    "    print('Hello', name, '=>', int(age) ** 2)"
   ]
  },
  {
   "cell_type": "markdown",
   "id": "changing-technical",
   "metadata": {},
   "source": [
    "## Конструкция else\n",
    "\n",
    "В сочетании с конструкцией **else** цикла оператор break часто позволяет устранить потребность во флагах состояния поиска, используемых в других языках. Скажем, следующий фрагмент кода определяет, является ли положительное целое число у простым, за счет поиска сомножителей больше 1:"
   ]
  },
  {
   "cell_type": "code",
   "execution_count": 19,
   "id": "after-latter",
   "metadata": {},
   "outputs": [
    {
     "name": "stdout",
     "output_type": "stream",
     "text": [
      "y = 5\n",
      "5 is prime\n",
      "y = 7\n",
      "7 is prime\n",
      "y = 10\n",
      "10 has factor 5\n"
     ]
    }
   ],
   "source": [
    "count = 0\n",
    "\n",
    "while count < 3:\n",
    "    \n",
    "    y = int(input('y = '))\n",
    "    х = y // 2\n",
    "\n",
    "    while х > 1:\n",
    "        if y % х == 0:\n",
    "            print (y, 'has factor', х)\n",
    "            break\n",
    "        х -= 1\n",
    "    else:\n",
    "        print (y, 'is prime')\n",
    "    \n",
    "    count += 1"
   ]
  },
  {
   "cell_type": "markdown",
   "id": "alone-keyboard",
   "metadata": {},
   "source": [
    "Поскольку конструкция else цикла присутствует только в Python, она может сбивать с толку новичков (и не использоваться некоторыми ветеранами; мне встречались даже те, кто даже не знал, что в циклах имеется else!). В общих чертах конструкция else цикла просто предлагает явный синтаксис для распространенного кодового сцена­\n",
    "рия — она представляет собой кодовую структуру, которая позволяет перехватить “другой” выход из цикла, не устанавливая и не проверяя флаги или условия."
   ]
  },
  {
   "cell_type": "markdown",
   "id": "spiritual-gilbert",
   "metadata": {},
   "source": [
    "## Do While в Python\n",
    "\n",
    "Конструкции do while в python нет, ее отличие от while заключается в том, что код сначала выполняется, а потом проверяется условие, но с помощью while True и break можно написать свой do while."
   ]
  },
  {
   "cell_type": "code",
   "execution_count": 20,
   "id": "assumed-prince",
   "metadata": {},
   "outputs": [
    {
     "name": "stdout",
     "output_type": "stream",
     "text": [
      "Этот код выполняется до проверки\n",
      "Этот код выполняется до проверки\n",
      "Этот код выполняется до проверки\n",
      "Этот код выполняется до проверки\n",
      "Этот код выполняется до проверки\n"
     ]
    }
   ],
   "source": [
    "count = 0\n",
    "\n",
    "while True:\n",
    "    print('Этот код выполняется до проверки')\n",
    "    \n",
    "    if count > 3:\n",
    "        break\n",
    "    \n",
    "    count += 1"
   ]
  },
  {
   "cell_type": "markdown",
   "id": "rotary-folder",
   "metadata": {},
   "source": [
    "## Цикл for\n",
    "\n",
    "Цикл **for** является универсальным итератором в Python: он может проходить по элементам в любой упорядоченной последовательности или в другом итерируемом объекте. Оператор for работает на строках, списках, кортежах и прочих встроенных итерируемых объектах, а также на новых объектах, определяемых пользователем, которые мы позже научимся создавать с помощью классов."
   ]
  },
  {
   "cell_type": "markdown",
   "id": "basic-blame",
   "metadata": {},
   "source": [
    "Цикл for языка Python начинается со строки заголовка, где указывается цель (или цели) присваивания наряду с объектом, по которому нужно совершить проход. После заголовка находится блок операторов (обычно с отступами), который необходимо повторять:\n",
    "\n",
    "for цель in объект:\n",
    "    \n",
    "    опера торы\n",
    "else:\n",
    "    \n",
    "    операторы\n",
    "    \n",
    "Оператор for также поддерживает необязательный блок else, который работает точно как в цикле while — он выполняется, если выход из цикла осуществляется без помощи оператора break (т.е. когда были посещены все элементы последовательности). Представленные ранее операторы break и continue в цикле for также работают аналогично циклу while."
   ]
  },
  {
   "cell_type": "code",
   "execution_count": 21,
   "id": "egyptian-chile",
   "metadata": {},
   "outputs": [
    {
     "name": "stdout",
     "output_type": "stream",
     "text": [
      "1! 2! 3! 4! 5! 6! 7! "
     ]
    }
   ],
   "source": [
    "s = [1, 2, 3, 4, 5, 6, 7]\n",
    "\n",
    "for i in s:\n",
    "    print(i, end='! ')"
   ]
  },
  {
   "cell_type": "markdown",
   "id": "discrete-alert",
   "metadata": {},
   "source": [
    "## Циклы с подсчетом: range\n",
    "\n",
    "Первая связанная с циклами функция, **range**, в действительности является универсальным инструментом, который может использоваться в разнообразных контекстах. Хотя функция range наиболее часто будет применяться для генерации индексов в цикле for, вы можете ее использовать где угодно, когда требуется серия целых чисел. В Python 2.Х функция range создает физический список; в Python З.Х функция range является итерируемым объектом, который генерирует элементы по запросу, поэтому для отображения сразу всех результатов вызов range понадобится поместить внутрь вызова list."
   ]
  },
  {
   "cell_type": "code",
   "execution_count": 22,
   "id": "bulgarian-harvard",
   "metadata": {},
   "outputs": [
    {
     "name": "stdout",
     "output_type": "stream",
     "text": [
      "range(0, 10)\n",
      "range(0, 10)\n",
      "range(0, 10, 2)\n"
     ]
    }
   ],
   "source": [
    "print(range(10))\n",
    "print(range(0, 10))\n",
    "print(range(0, 10, 2))"
   ]
  },
  {
   "cell_type": "code",
   "execution_count": 23,
   "id": "favorite-indonesia",
   "metadata": {},
   "outputs": [
    {
     "name": "stdout",
     "output_type": "stream",
     "text": [
      "[0, 1, 2, 3, 4, 5, 6, 7, 8, 9]\n",
      "[0, 1, 2, 3, 4, 5, 6, 7, 8, 9]\n",
      "[0, 2, 4, 6, 8]\n"
     ]
    }
   ],
   "source": [
    "print(list(range(10)))\n",
    "print(list(range(0, 10)))\n",
    "print(list(range(0, 10, 2)))"
   ]
  },
  {
   "cell_type": "code",
   "execution_count": 24,
   "id": "allied-stanley",
   "metadata": {},
   "outputs": [
    {
     "name": "stdout",
     "output_type": "stream",
     "text": [
      "range(10, 0, -1)\n",
      "[10, 9, 8, 7, 6, 5, 4, 3, 2, 1]\n"
     ]
    }
   ],
   "source": [
    "print(range(10, 0, -1))\n",
    "\n",
    "print(list(range(10, 0, -1)))"
   ]
  },
  {
   "cell_type": "code",
   "execution_count": 25,
   "id": "hydraulic-cigarette",
   "metadata": {},
   "outputs": [
    {
     "name": "stdout",
     "output_type": "stream",
     "text": [
      "[10, 8, 6, 4, 2]\n"
     ]
    }
   ],
   "source": [
    "print(list(range(10, 0, -2)))"
   ]
  },
  {
   "cell_type": "code",
   "execution_count": 26,
   "id": "blank-research",
   "metadata": {},
   "outputs": [
    {
     "name": "stdout",
     "output_type": "stream",
     "text": [
      "0 1 2 3 4 5 6 7 8 9 "
     ]
    }
   ],
   "source": [
    "for i in range(10):\n",
    "    print(i, end=' ')"
   ]
  },
  {
   "cell_type": "code",
   "execution_count": 27,
   "id": "engaged-sessions",
   "metadata": {},
   "outputs": [
    {
     "name": "stdout",
     "output_type": "stream",
     "text": [
      "10 13 16 19 22 "
     ]
    }
   ],
   "source": [
    "for i in range(10, 25, 3):\n",
    "    print(i, end=' ')"
   ]
  },
  {
   "cell_type": "code",
   "execution_count": 28,
   "id": "technical-novelty",
   "metadata": {},
   "outputs": [
    {
     "name": "stdout",
     "output_type": "stream",
     "text": [
      "100 95 90 85 80 "
     ]
    }
   ],
   "source": [
    "for i in range(100, 75, -5):\n",
    "    print(i, end=' ')"
   ]
  },
  {
   "cell_type": "markdown",
   "id": "unauthorized-acrobat",
   "metadata": {},
   "source": [
    "## Тасование последовательностей: range и len\n",
    "\n",
    "Хотя и не идеально для простого просмотра последовательностей, использованный в предыдущем примере кодовый шаблон позволяет реализовывать специализированные виды обхода, когда они необходимы. Скажем, некоторые алгоритмы могут задействовать переупорядочение последовательностей — для генерации вариантов при поиске, для проверки эффекта от разного упорядочения значений и т.д. Такие случаи могут требовать смещения, чтобы разделять последовательности и снова собирать их вместе, как показано ниже; целые числа диапазона предоставляют счетчик повторений в первом и позицию для нарезания во втором:"
   ]
  },
  {
   "cell_type": "code",
   "execution_count": 30,
   "id": "reduced-hydrogen",
   "metadata": {},
   "outputs": [
    {
     "name": "stdout",
     "output_type": "stream",
     "text": [
      "pams amsp mspa spam "
     ]
    }
   ],
   "source": [
    "s = 'spam'\n",
    "for i in range(len(s)):\n",
    "\n",
    "    s = s[1:] + s[:1]\n",
    "    print(s, end=' ')"
   ]
  },
  {
   "cell_type": "code",
   "execution_count": 33,
   "id": "personalized-comparison",
   "metadata": {},
   "outputs": [
    {
     "name": "stdout",
     "output_type": "stream",
     "text": [
      "0 1 2 3 4 5 6 7 8 9 10 11 12 13 14 15 16 17 18 19 20 21 22 23 24 25 26 27 28 29 30 31 "
     ]
    }
   ],
   "source": [
    "s = 'ajsdiajsijdajsidjasdasdkasokdoak'\n",
    "\n",
    "for i in range(len(s)):\n",
    "    print(i, end=' ')"
   ]
  },
  {
   "cell_type": "markdown",
   "id": "divided-replacement",
   "metadata": {},
   "source": [
    "## Параллельные обходы: zip и map\n",
    "\n",
    "В Pyhon функция **zip** позволяет пройтись одновременно по нескольким итерируемым объектам (спискам и др.)\n",
    "\n",
    "Функция **map** применяет функцию к каждому элементу последовательности и возвращает итератор с результатами."
   ]
  },
  {
   "cell_type": "code",
   "execution_count": 42,
   "id": "greenhouse-suffering",
   "metadata": {},
   "outputs": [
    {
     "name": "stdout",
     "output_type": "stream",
     "text": [
      "<zip object at 0x7f3949f2e0c0>\n",
      "[(1, 6), (2, 7), (3, 8), (4, 8), (5, 10)]\n",
      "(1, 6) (2, 7) (3, 8) (4, 8) (5, 10) \n",
      "1-6 2-7 3-8 4-8 5-10 \n",
      "1+6 2+7 3+8 4+8 5+10 \n",
      "(1, 2)\n",
      "(2, 3)\n",
      "(3, 4)\n",
      "(4, 5)\n",
      "(5, 6)\n",
      "(6, 7)\n"
     ]
    }
   ],
   "source": [
    "a = [1, 2, 3, 4, 5]\n",
    "\n",
    "b = [6, 7, 8, 8, 10]\n",
    "\n",
    "print(zip(a, b))\n",
    "\n",
    "print(list(zip(a, b)))\n",
    "\n",
    "\n",
    "for i in zip(a, b):\n",
    "    print(i, end=' ')\n",
    "\n",
    "print()\n",
    "    \n",
    "for i in zip(a, b):\n",
    "    print(i[0], i[1], sep='-', end=' ')\n",
    "    \n",
    "print()\n",
    "\n",
    "for i, j in zip(a, b):\n",
    "    print(i, j, sep='+', end=' ')\n",
    "    \n",
    "print()\n",
    "c = [1, 2, 3, 4, 5, 6, 7]\n",
    "\n",
    "for i in zip(c[:-1], c[1:]):\n",
    "    print(i)"
   ]
  },
  {
   "cell_type": "code",
   "execution_count": 2,
   "id": "western-farming",
   "metadata": {},
   "outputs": [
    {
     "name": "stdout",
     "output_type": "stream",
     "text": [
      "<map object at 0x7f11d8f4ccd0>\n",
      "['1', '2', '3', '4', '5']\n",
      "['A', 'B', 'C', 'D', 'E']\n"
     ]
    }
   ],
   "source": [
    "s = [1, 2, 3, 4, 5]\n",
    "\n",
    "a = map(str, s)\n",
    "\n",
    "print(a)\n",
    "\n",
    "print(list(a))\n",
    "\n",
    "z = ['a', 'b', 'c', 'd', 'e']\n",
    "\n",
    "print(list(map(str.upper, z)))"
   ]
  },
  {
   "cell_type": "markdown",
   "id": "certain-tulsa",
   "metadata": {},
   "source": [
    "## List Comprehension, Dict Comprehension\n",
    "\n",
    "Списковое включение — это встроенный в Python механизм генерации списков. У него только одна задача — это построить список. Списковое включение строит список из любого итерируемого типа, преобразуя (фильтруя) поступаемые значения."
   ]
  },
  {
   "cell_type": "code",
   "execution_count": 5,
   "id": "exclusive-peripheral",
   "metadata": {},
   "outputs": [
    {
     "name": "stdout",
     "output_type": "stream",
     "text": [
      "[0, 1, 2, 3, 4, 5, 6, 7, 8, 9]\n",
      "[0, 1, 4, 9, 16, 25, 36, 49, 64, 81]\n",
      "[0, 1, 2, 3, 4, 5, 6, 7, 8, 9]\n",
      "[0, 8, 64, 216, 512]\n"
     ]
    }
   ],
   "source": [
    "s = [i for i in range(10)]\n",
    "\n",
    "print(s)\n",
    "\n",
    "s = [i ** 2 for i in range(10)]\n",
    "\n",
    "print(s)\n",
    "\n",
    "s = [i for i in range(10)]\n",
    "\n",
    "print(s)\n",
    "\n",
    "s = [i ** 3 for i in range(10) if i % 2 == 0]\n",
    "\n",
    "print(s)"
   ]
  },
  {
   "cell_type": "code",
   "execution_count": 7,
   "id": "selected-above",
   "metadata": {},
   "outputs": [
    {
     "name": "stdout",
     "output_type": "stream",
     "text": [
      "{0: 0, 1: 1, 2: 2, 3: 3, 4: 4, 5: 5, 6: 6, 7: 7, 8: 8, 9: 9}\n",
      "{0: 0, 1: 1, 2: 4, 3: 9, 4: 16, 5: 25, 6: 36, 7: 49, 8: 64, 9: 81}\n",
      "{0: 0, 2: 8, 4: 64, 6: 216, 8: 512}\n"
     ]
    }
   ],
   "source": [
    "d = {i: i for i in range(10)}\n",
    "\n",
    "print(d)\n",
    "\n",
    "d = {i: i ** 2 for i in range(10)}\n",
    "\n",
    "print(d)\n",
    "\n",
    "d = {i: i ** 3 for i in range(10) if i % 2 == 0}\n",
    "\n",
    "print(d)"
   ]
  }
 ],
 "metadata": {
  "kernelspec": {
   "display_name": "Python 3",
   "language": "python",
   "name": "python3"
  },
  "language_info": {
   "codemirror_mode": {
    "name": "ipython",
    "version": 3
   },
   "file_extension": ".py",
   "mimetype": "text/x-python",
   "name": "python",
   "nbconvert_exporter": "python",
   "pygments_lexer": "ipython3",
   "version": "3.8.5"
  }
 },
 "nbformat": 4,
 "nbformat_minor": 5
}
