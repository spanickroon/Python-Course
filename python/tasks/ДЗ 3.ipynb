{
 "cells": [
  {
   "cell_type": "markdown",
   "id": "everyday-patrick",
   "metadata": {},
   "source": [
    "# Домашняя работа No3"
   ]
  },
  {
   "cell_type": "markdown",
   "id": "mental-sussex",
   "metadata": {},
   "source": [
    "Для выполнения домашнего задания необходимо создать директорию python_course/homework_3. Каждая задача оформляется в новом файле с наименованием task_\\*.py, где \\* ― номер задачи."
   ]
  },
  {
   "cell_type": "markdown",
   "id": "strange-diversity",
   "metadata": {},
   "source": [
    "**Задача No1:** Дан список a = [10, 20, 30, 1, 1, -10, -23, 2, 3, 5, 8, 13, 0, 21, 34, 55, 89, -89]. Вывести все элементы, которые строго меньше 5."
   ]
  },
  {
   "cell_type": "markdown",
   "id": "royal-inquiry",
   "metadata": {},
   "source": [
    "**Задача No2:** Заполнить список 111 нулями, кроме первого и последнего элементов, которые должны быть равны 7.\n"
   ]
  },
  {
   "cell_type": "markdown",
   "id": "japanese-manchester",
   "metadata": {},
   "source": [
    "**Задача No3:** Сформировать два списка а и b, один состоит из четных, другой - из нечетных элементов, на промежутке от 0 до 100."
   ]
  },
  {
   "cell_type": "markdown",
   "id": "muslim-prairie",
   "metadata": {},
   "source": [
    "**Задача No4:** Пользователь вводит целое число n. Дан список a = [10, 20, 30, 1, 1, -10, -23, 2, 3, 5, 8, 13, 0, 21, 34, 55, 89, -89]. Определить есть ли число n в списке а. "
   ]
  },
  {
   "cell_type": "markdown",
   "id": "russian-regard",
   "metadata": {},
   "source": [
    "**Задача No5:** Дан список a = [10, 20, 30, 1, 1, -10, 2, 3, -5, 13, 21, 34, 55, 89]. Найдите среднее арифметическое суммы и произведения элементов списка."
   ]
  },
  {
   "cell_type": "markdown",
   "id": "relevant-seating",
   "metadata": {},
   "source": [
    "**Задача No6:** Пользователь вводит список чисел через пробел. Определите, есть ли в списке повторяющиеся элементы, если да, то вывести на экран эти значения."
   ]
  },
  {
   "cell_type": "markdown",
   "id": "color-matrix",
   "metadata": {},
   "source": [
    "**Задача No7:** Пользователь вводит список чисел через пробел. Поменять местами максимальный и минимальный элемент списка."
   ]
  },
  {
   "cell_type": "markdown",
   "id": "tested-alexandria",
   "metadata": {},
   "source": [
    "**Задача No8:** Дан список a = [10, 20, 30, 1, 1, -10, 2, 3, -5, 13, 21, 34, 55, 89]. Превратите его в список квадратов этих чисел."
   ]
  },
  {
   "cell_type": "markdown",
   "id": "retired-termination",
   "metadata": {},
   "source": [
    "**Задача No9:** Пользователь вводит список чисел через пробел. Удалить все отрицательные числа в этом списке"
   ]
  },
  {
   "cell_type": "markdown",
   "id": "driving-success",
   "metadata": {},
   "source": [
    "**Задача No10\\*:** Пользователь вводит целое число n > 0. Нужно вывести первые n строк [треугольника Паскаля](https://ru.wikipedia.org/wiki/%D0%A2%D1%80%D0%B5%D1%83%D0%B3%D0%BE%D0%BB%D1%8C%D0%BD%D0%B8%D0%BA_%D0%9F%D0%B0%D1%81%D0%BA%D0%B0%D0%BB%D1%8F).\n"
   ]
  }
 ],
 "metadata": {
  "kernelspec": {
   "display_name": "Python 3",
   "language": "python",
   "name": "python3"
  },
  "language_info": {
   "codemirror_mode": {
    "name": "ipython",
    "version": 3
   },
   "file_extension": ".py",
   "mimetype": "text/x-python",
   "name": "python",
   "nbconvert_exporter": "python",
   "pygments_lexer": "ipython3",
   "version": "3.8.5"
  }
 },
 "nbformat": 4,
 "nbformat_minor": 5
}
