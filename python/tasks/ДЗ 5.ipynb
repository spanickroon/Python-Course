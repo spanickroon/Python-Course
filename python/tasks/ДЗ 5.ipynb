{
 "cells": [
  {
   "cell_type": "markdown",
   "id": "fresh-madness",
   "metadata": {},
   "source": [
    "# Домашняя работа No5"
   ]
  },
  {
   "cell_type": "markdown",
   "id": "intimate-roman",
   "metadata": {},
   "source": [
    "Для выполнения домашнего задания необходимо создать директорию python_course/homework_5. Каждая задача оформляется в новом файле с наименованием task_\\*.py, где \\* ― номер задачи."
   ]
  },
  {
   "cell_type": "markdown",
   "id": "inside-taylor",
   "metadata": {},
   "source": [
    "**Задача No1:** Дан список а = [1, 2, 3, 4, 5] и список b = [3, 5, 4, 5, 7, 8]. Сформировать список d из пересечения элементов списка a и b."
   ]
  },
  {
   "cell_type": "markdown",
   "id": "handy-registration",
   "metadata": {},
   "source": [
    "**Задача No2:** Дана строка s = 'abfusdifdsfisdfsdfbhabsfajf'. Вывести буквы латинского алфавита, которые не используются в данной строке."
   ]
  },
  {
   "cell_type": "markdown",
   "id": "fewer-wichita",
   "metadata": {},
   "source": [
    "**Задача No3:** Пользователь вводит строку s. Сформировать котреж d содержищий множество и его мощность. Ответ: для строки s = 'hello' d = ({'h', 'e', 'l', 'o'}, 4)"
   ]
  },
  {
   "cell_type": "markdown",
   "id": "middle-honduras",
   "metadata": {},
   "source": [
    "**Задача No4:** Имеются два списка a = [1, 2, 3, 4, 5, 6, 7, 8, 9] и b = [-8, 2, 3, 4, 9, 10, 12, 12, 14]. Реализовать объединение, пересечение, вычитание, симметрическую разность данных списков."
   ]
  }
 ],
 "metadata": {
  "kernelspec": {
   "display_name": "Python 3",
   "language": "python",
   "name": "python3"
  },
  "language_info": {
   "codemirror_mode": {
    "name": "ipython",
    "version": 3
   },
   "file_extension": ".py",
   "mimetype": "text/x-python",
   "name": "python",
   "nbconvert_exporter": "python",
   "pygments_lexer": "ipython3",
   "version": "3.8.5"
  }
 },
 "nbformat": 4,
 "nbformat_minor": 5
}
