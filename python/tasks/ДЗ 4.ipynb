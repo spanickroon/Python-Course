{
 "cells": [
  {
   "cell_type": "markdown",
   "id": "extreme-identity",
   "metadata": {},
   "source": [
    "# Домашняя работа No4"
   ]
  },
  {
   "cell_type": "markdown",
   "id": "dangerous-miracle",
   "metadata": {},
   "source": [
    "Для выполнения домашнего задания необходимо создать директорию python_course/homework_4. Каждая задача оформляется в новом файле с наименованием task_\\*.py, где \\* ― номер задачи."
   ]
  },
  {
   "cell_type": "markdown",
   "id": "nearby-shame",
   "metadata": {},
   "source": [
    "**Задача No1:** Дан список а = [1, 2, 3, 4, 5]. Необходимо сформировать список кортежей d, состоящие из интервалов списка а. Ответ: [(1, 2), (2, 3), (3, 4), (4, 5)]"
   ]
  },
  {
   "cell_type": "markdown",
   "id": "personal-harrison",
   "metadata": {},
   "source": [
    "**Задача No2:** Даны два словаря a = {'a': 100, 'b': 110} и b = {'y': 120, 'z': 130}. Необходимо объединить два словаря в словарь d."
   ]
  },
  {
   "cell_type": "markdown",
   "id": "hollow-lodge",
   "metadata": {},
   "source": [
    "**Задача No3:** Пользователь вводит целое число n > 2. Необходимо сформировать словарь d, где ключами будут являться элементы от 1 до n, а значенияими квадраты этих чисел. Ответ: при n = 5, d = {1: 1, 2: 4, 3: 9, 4: 16, 5: 25}"
   ]
  },
  {
   "cell_type": "markdown",
   "id": "worldwide-footwear",
   "metadata": {},
   "source": [
    "**Задача No4:** Дана строка s = 'sjhgfsdjlifuhsdiufhsdjfhskdbfjdhkfjlasjdhudgnmsfnsdf'. Сформировать словарь d, где ключом является буква, а значением, сколько раз повторяется в строке. Ответ: d = {'s': 8, 'f': 8, 'd': 8, 'j': 6, 'h': 6, 'u': 3, 'g': 2, 'l': 2, 'i': 2, 'k': 2, 'n': 2, 'b': 1, 'a': 1, 'm': 1}"
   ]
  },
  {
   "cell_type": "markdown",
   "id": "magnetic-checklist",
   "metadata": {},
   "source": [
    "**Задача No5:** Даны два списка a = [1, 2, 3, 4, 5] и b = ['a', 'b', 'c', 'd', 'e']. Неободимо сформировать два словаря d_1 и d_2. В d_1: ключи - элементы списка а, значения - элементы списка b. В d_2 соответственно наоборот."
   ]
  },
  {
   "cell_type": "markdown",
   "id": "paperback-dancing",
   "metadata": {},
   "source": [
    "**Задача No6:** Дан словарь d = {'a': 500, 'b': 5874, 'c': 560,'d': 400, 'e': 3874, 'f': 20}. Необходимо найти 2 ключа с самым большим значением. Ответ: b и е."
   ]
  }
 ],
 "metadata": {
  "kernelspec": {
   "display_name": "Python 3",
   "language": "python",
   "name": "python3"
  },
  "language_info": {
   "codemirror_mode": {
    "name": "ipython",
    "version": 3
   },
   "file_extension": ".py",
   "mimetype": "text/x-python",
   "name": "python",
   "nbconvert_exporter": "python",
   "pygments_lexer": "ipython3",
   "version": "3.8.5"
  }
 },
 "nbformat": 4,
 "nbformat_minor": 5
}
