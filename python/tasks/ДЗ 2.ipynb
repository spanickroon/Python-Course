{
 "cells": [
  {
   "cell_type": "markdown",
   "id": "female-juvenile",
   "metadata": {},
   "source": [
    "# Домашняя работа No2"
   ]
  },
  {
   "cell_type": "markdown",
   "id": "settled-exclusion",
   "metadata": {},
   "source": [
    "Для выполнения домашнего задания необходимо создать директорию python_course/homework_2. Каждая задача оформляется в новом файле с наименованием task_*.py, где * ― номер задачи."
   ]
  },
  {
   "cell_type": "markdown",
   "id": "periodic-guard",
   "metadata": {},
   "source": [
    "**Задача No1:** Пользователь вводит строку, проверить является ли строка палиндромом."
   ]
  },
  {
   "cell_type": "markdown",
   "id": "everyday-cookbook",
   "metadata": {},
   "source": [
    "**Задача No2:**\n",
    "Пользователь вводит строку, проверить содержит ли стока букву **а** и если это так, заменить все **а** в нижнем регистре на верхний."
   ]
  },
  {
   "cell_type": "markdown",
   "id": "played-portrait",
   "metadata": {},
   "source": [
    "**Задача No3:**\n",
    "Создайте 10 строк с названиями стран. Создайте список.\n",
    "Проверьте строки: если в строке более 5 символов — добавить её в массив. Но если строка содержит букву **А** - заменить эту букву на другую и добавить изменённую строку в массив.\n",
    "\n"
   ]
  },
  {
   "cell_type": "markdown",
   "id": "substantial-employee",
   "metadata": {},
   "source": [
    "**Задача No4:**\n",
    "Пользователь вводит строку, содержащую пробелы. Удалить все пробелы в данной строке."
   ]
  },
  {
   "cell_type": "markdown",
   "id": "informal-exposure",
   "metadata": {},
   "source": [
    "**Задача No5:**\n",
    "Пользователь вводит строку. Удалить все повторяющиеся символы."
   ]
  },
  {
   "cell_type": "markdown",
   "id": "aboriginal-accordance",
   "metadata": {},
   "source": [
    "**Задача No6:**\n",
    "Пользователь вводит строку, состаящая из слов, содержащая пробелы. Вывести количество слов в данной строке."
   ]
  },
  {
   "cell_type": "markdown",
   "id": "twelve-attempt",
   "metadata": {},
   "source": [
    "**Задача No7:**\n",
    "Пользователь вводит строку, вывести все буквы, которые находятся в верхнем регистре."
   ]
  },
  {
   "cell_type": "markdown",
   "id": "matched-opposition",
   "metadata": {},
   "source": [
    "**Задача No8:**\n",
    "Пользователь вводит строку, содержащую буквы в верхнем и нижнем регистре, посчитать их количество."
   ]
  },
  {
   "cell_type": "markdown",
   "id": "norwegian-optimum",
   "metadata": {},
   "source": [
    "**Задача No9\\*:**\n",
    "Вводится строка слов, разделенных пробелами. Найти самое длинное слово и вывести его на экран. Случай, когда самых длинных слов может быть несколько, не обрабатывать."
   ]
  }
 ],
 "metadata": {
  "kernelspec": {
   "display_name": "Python 3",
   "language": "python",
   "name": "python3"
  },
  "language_info": {
   "codemirror_mode": {
    "name": "ipython",
    "version": 3
   },
   "file_extension": ".py",
   "mimetype": "text/x-python",
   "name": "python",
   "nbconvert_exporter": "python",
   "pygments_lexer": "ipython3",
   "version": "3.8.5"
  }
 },
 "nbformat": 4,
 "nbformat_minor": 5
}
