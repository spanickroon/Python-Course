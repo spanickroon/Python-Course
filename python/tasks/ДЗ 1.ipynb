{
 "cells": [
  {
   "cell_type": "markdown",
   "id": "greatest-minority",
   "metadata": {},
   "source": [
    "# Домашняя работа No1"
   ]
  },
  {
   "cell_type": "markdown",
   "id": "persistent-modeling",
   "metadata": {},
   "source": [
    "Для выполнения домашнего задания необходимо создать директорию python_course/homework_1. Каждая задача оформляется в новом файле с наименованием task_*.py, где * ― номер задачи.\n"
   ]
  },
  {
   "cell_type": "markdown",
   "id": "disturbed-cotton",
   "metadata": {},
   "source": [
    "**Задача No1:**\n",
    "Пользователь вводит с клавиатуры 3 целых числа a, b, c. Необходимо найти среднее арифметическое. Запрещено использовать функции max(), min(), sum() и другие функции библиотек, которые решают данную задачу.\n"
   ]
  },
  {
   "cell_type": "markdown",
   "id": "central-navigator",
   "metadata": {},
   "source": [
    "**Задача No2:**\n",
    "Пользователь вводит с клавиатуры 3 целых числа a, b, c. Необходимо найти наибольшее и наименьшее число. Запрещено\n",
    "использовать функции max(), min() и другие функции библиотек, которые решают данную задачу.\n"
   ]
  },
  {
   "cell_type": "markdown",
   "id": "cutting-burke",
   "metadata": {},
   "source": [
    "**Задача No3:**\n",
    "Пользователь вводит с клавиатуры 4 целых числа a, b, c, d. Необходимо сформировать список e из этих чисел, вывести e на экран, а также его тип, методы которые поддерживает данная переменная.\n"
   ]
  },
  {
   "cell_type": "markdown",
   "id": "disturbed-above",
   "metadata": {},
   "source": [
    "**Задача No4:**\n",
    "Пользователь вводит с клавиатуры целое число year. Необходимо определить, является ли год, который ввел пользователем, високосным или невисокосным.\n"
   ]
  },
  {
   "cell_type": "markdown",
   "id": "seasonal-fishing",
   "metadata": {},
   "source": [
    "**Задача No5:**\n",
    "Пользователь вводит с клавиатуры 3 целых числа a, b, c.Необходимо определить, можно ли построить треугольник из этих чисел.\n"
   ]
  },
  {
   "cell_type": "markdown",
   "id": "plastic-swiss",
   "metadata": {},
   "source": [
    "**Задача No6:**\n",
    "Пользователь вводит с клавиатуры 3 целых числа a, b, c, которые являются коэффициентами квадратного уравнения\n",
    "вида\n",
    "\n",
    "a^2 * x + b * x + c = 0 . Необходимо вычислить корни квадратного уравнения x 1 и x 2 , а если невозможно это сделать, то вывести соответствующее сообщение."
   ]
  },
  {
   "cell_type": "markdown",
   "id": "fossil-patent",
   "metadata": {},
   "source": [
    "**Задача No7:**\n",
    "Пользователь вводит с клавиатуры координаты x, y и радиус круга r. Необходимо определить принадлежит ли данная точка кругу, если его центр находится в начале координат."
   ]
  }
 ],
 "metadata": {
  "kernelspec": {
   "display_name": "Python 3",
   "language": "python",
   "name": "python3"
  },
  "language_info": {
   "codemirror_mode": {
    "name": "ipython",
    "version": 3
   },
   "file_extension": ".py",
   "mimetype": "text/x-python",
   "name": "python",
   "nbconvert_exporter": "python",
   "pygments_lexer": "ipython3",
   "version": "3.8.5"
  }
 },
 "nbformat": 4,
 "nbformat_minor": 5
}
